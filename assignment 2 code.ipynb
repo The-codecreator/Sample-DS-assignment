{
 "cells": [
  {
   "cell_type": "code",
   "execution_count": null,
   "id": "0f764303",
   "metadata": {},
   "outputs": [],
   "source": [
    "# \"This code is for the normal distribution doc file (set 2)\"\n",
    "\n",
    "\n",
    "from scipy import stats as st\n",
    "#import scipy.stats as st\n",
    "import numpy as np"
   ]
  },
  {
   "cell_type": "code",
   "execution_count": 7,
   "id": "902dcb8d",
   "metadata": {},
   "outputs": [
    {
     "name": "stdout",
     "output_type": "stream",
     "text": [
      "(198.738325292158, 201.261674707842)\n"
     ]
    }
   ],
   "source": [
    "#Q2: A\n",
    "print(st.norm.interval(0.94,200,(30/(np.sqrt(2000)))))"
   ]
  },
  {
   "cell_type": "code",
   "execution_count": 8,
   "id": "9f24974f",
   "metadata": {},
   "outputs": [
    {
     "name": "stdout",
     "output_type": "stream",
     "text": [
      "0.15865525393145707\n"
     ]
    }
   ],
   "source": [
    "print(1-st.norm.cdf(1,0,1))\n"
   ]
  },
  {
   "cell_type": "code",
   "execution_count": 9,
   "id": "6500d88a",
   "metadata": {},
   "outputs": [
    {
     "name": "stdout",
     "output_type": "stream",
     "text": [
      "0.15865525393145707\n"
     ]
    }
   ],
   "source": [
    "\"OR\"\n",
    "print(1-st.norm.cdf(44,loc=38,scale=6))"
   ]
  },
  {
   "cell_type": "code",
   "execution_count": 31,
   "id": "4e165dcd",
   "metadata": {},
   "outputs": [
    {
     "name": "stdout",
     "output_type": "stream",
     "text": [
      "0.3413447460685429\n",
      "63 is the number of employees greater than age 44 years\n",
      "136.0 is the number of employees between the age 38 and 44 years\n"
     ]
    }
   ],
   "source": [
    "print(st.norm.cdf(44,loc=38,scale=6)-st.norm.cdf(38,loc=38,scale=6))\n",
    "print(round(0.158*400), \"is the number of employees greater than age 44 years\")\n",
    "print(0.34*400,  \"is the number of employees between the age 38 and 44 years\")"
   ]
  },
  {
   "cell_type": "code",
   "execution_count": 30,
   "id": "4a2d5086",
   "metadata": {},
   "outputs": [
    {
     "name": "stdout",
     "output_type": "stream",
     "text": [
      "36.484487890347154 is the number of employees that are expected to be attracted\n"
     ]
    }
   ],
   "source": [
    "#Q2B\n",
    "print((st.norm.cdf(30,loc=38,scale=6))*400,\"is the number of employees that are expected to be attracted\")\n"
   ]
  },
  {
   "cell_type": "code",
   "execution_count": 36,
   "id": "66cd1a17",
   "metadata": {},
   "outputs": [
    {
     "name": "stdout",
     "output_type": "stream",
     "text": [
      "[ 48.48 151.52]\n"
     ]
    }
   ],
   "source": [
    "#Q4:\n",
    "print(np.round(st.norm.interval(0.99,loc=100,scale=20),2) )   "
   ]
  },
  {
   "cell_type": "code",
   "execution_count": 45,
   "id": "78f15a86",
   "metadata": {},
   "outputs": [
    {
     "name": "stdout",
     "output_type": "stream",
     "text": [
      "[ 99.01 980.99] is the ci in rupee range\n"
     ]
    }
   ],
   "source": [
    "#Q5\n",
    "#A\n",
    "print(np.round(st.norm.interval(0.95,loc=12*45,scale=5*45),2),\"is the ci in rupee range\" ) "
   ]
  },
  {
   "cell_type": "code",
   "execution_count": 50,
   "id": "d662c324",
   "metadata": {},
   "outputs": [
    {
     "name": "stdout",
     "output_type": "stream",
     "text": [
      "169.9079339359186 is the 5th percentile of the profit\n"
     ]
    }
   ],
   "source": [
    "#B\n",
    "print(st.norm.ppf(0.05, loc=12*45,scale=5*45),\"is the 5th percentile of the profit\")"
   ]
  },
  {
   "cell_type": "code",
   "execution_count": 54,
   "id": "b577cb08",
   "metadata": {},
   "outputs": [
    {
     "name": "stdout",
     "output_type": "stream",
     "text": [
      "\n",
      "Probability of making a loss for Division 1: 0.0477903522728147\n",
      "Probability of making a loss for Division 2: 0.040059156863817086\n"
     ]
    }
   ],
   "source": [
    " #c\n",
    "loss1 = st.norm.cdf(0, loc=5 * 45, scale=(3) * 45)\n",
    "loss2 = st.norm.cdf(0, loc=7 * 45, scale=(4) * 45)\n",
    "print(\"\\nProbability of making a loss for Division 1:\", loss1)\n",
    "print(\"Probability of making a loss for Division 2:\", loss2)"
   ]
  },
  {
   "cell_type": "code",
   "execution_count": 52,
   "id": "84be5230",
   "metadata": {},
   "outputs": [
    {
     "data": {
      "text/plain": [
       "(-37.79351721720974, 667.7935172172097)"
      ]
     },
     "execution_count": 52,
     "metadata": {},
     "output_type": "execute_result"
    }
   ],
   "source": [
    "# set3 code "
   ]
  },
  {
   "cell_type": "code",
   "execution_count": 57,
   "id": "8a02a54d",
   "metadata": {},
   "outputs": [
    {
     "data": {
      "text/plain": [
       "5.4289000000000005"
      ]
     },
     "execution_count": 57,
     "metadata": {},
     "output_type": "execute_result"
    }
   ],
   "source": [
    "(2.33**2)"
   ]
  },
  {
   "cell_type": "code",
   "execution_count": 58,
   "id": "0fda476e",
   "metadata": {},
   "outputs": [
    {
     "data": {
      "text/plain": [
       "1.3575"
      ]
     },
     "execution_count": 58,
     "metadata": {},
     "output_type": "execute_result"
    }
   ],
   "source": [
    "5.43*0.25/"
   ]
  },
  {
   "cell_type": "code",
   "execution_count": 62,
   "id": "dc2d6a4b",
   "metadata": {},
   "outputs": [
    {
     "data": {
      "text/plain": [
       "848.265625"
      ]
     },
     "execution_count": 62,
     "metadata": {},
     "output_type": "execute_result"
    }
   ],
   "source": [
    "2.33*2.33*0.25/0.0016"
   ]
  },
  {
   "cell_type": "code",
   "execution_count": null,
   "id": "28a7d17e",
   "metadata": {},
   "outputs": [],
   "source": []
  }
 ],
 "metadata": {
  "kernelspec": {
   "display_name": "Python 3 (ipykernel)",
   "language": "python",
   "name": "python3"
  },
  "language_info": {
   "codemirror_mode": {
    "name": "ipython",
    "version": 3
   },
   "file_extension": ".py",
   "mimetype": "text/x-python",
   "name": "python",
   "nbconvert_exporter": "python",
   "pygments_lexer": "ipython3",
   "version": "3.11.5"
  }
 },
 "nbformat": 4,
 "nbformat_minor": 5
}
