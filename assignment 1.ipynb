{
 "cells": [
  {
   "cell_type": "code",
   "execution_count": 2,
   "id": "9a4d18d1",
   "metadata": {},
   "outputs": [],
   "source": [
    "import numpy as np\n",
    "import scipy.stats as st"
   ]
  },
  {
   "cell_type": "code",
   "execution_count": 9,
   "id": "f37a1c93",
   "metadata": {},
   "outputs": [
    {
     "name": "stdout",
     "output_type": "stream",
     "text": [
      "94% confidence interval is:\n",
      "(198.738325292158, 201.261674707842)\n",
      " \n",
      "98% confidence interval is:\n",
      "(198.43943840429978, 201.56056159570022)\n",
      " \n",
      "96% confidence interval is:\n",
      "(198.62230334813333, 201.37769665186667)\n"
     ]
    }
   ],
   "source": [
    "# Q11 ANS:\n",
    "#solution of Q11 using normal distribution under the consideration of large sample.\n",
    "# z=((bar x-mean)/s/sqrt(n)) is the statistic and as we are finding the \n",
    "# confidence interval for mean of the population location parameter will be (S/SQRT(n))\n",
    "print(\"94% confidence interval is:\")\n",
    "print(st.norm.interval(0.94,200,(30/(np.sqrt(2000)))))\n",
    "print(\" \")    \n",
    "print(\"98% confidence interval is:\")\n",
    "print(st.norm.interval(0.98,200,(30/(np.sqrt(2000)))))\n",
    "print(\" \")  \n",
    "print(\"96% confidence interval is:\")\n",
    "print(st.norm.interval(0.96,200,(30/(np.sqrt(2000)))))\n",
    "       \n"
   ]
  },
  {
   "cell_type": "code",
   "execution_count": 17,
   "id": "86d766b5",
   "metadata": {},
   "outputs": [
    {
     "name": "stdout",
     "output_type": "stream",
     "text": [
      "94% confidence interval is:\n",
      "(198.73109273730446, 201.26890726269554)\n",
      " \n",
      "98% confidence interval is:\n",
      "(198.4267703924641, 201.5732296075359)\n",
      "\n",
      " \n",
      "96% confidence interval is:\n",
      "(198.61321430334644, 201.38678569665356)\n"
     ]
    }
   ],
   "source": [
    "# verified using t statistic also.\n",
    "print(\"94% confidence interval is:\")\n",
    "print(st.t.interval(0.94,199,200,(30/(np.sqrt(2000)))))\n",
    "print(\" \")    \n",
    "print(\"98% confidence interval is:\")\n",
    "print(st.t.interval(0.98,199,200,(30/(np.sqrt(2000)))))\n",
    "print('')\n",
    "print(\" \")  \n",
    "print(\"96% confidence interval is:\")\n",
    "print(st.t.interval(0.96,199,200,(30/(np.sqrt(2000)))))"
   ]
  },
  {
   "cell_type": "code",
   "execution_count": 19,
   "id": "ed0548aa",
   "metadata": {},
   "outputs": [],
   "source": [
    "import pandas as pd\n",
    "car=pd.read_csv(\"Cars.csv\")\n"
   ]
  },
  {
   "cell_type": "code",
   "execution_count": 20,
   "id": "5bb97f83",
   "metadata": {},
   "outputs": [
    {
     "data": {
      "text/html": [
       "<div>\n",
       "<style scoped>\n",
       "    .dataframe tbody tr th:only-of-type {\n",
       "        vertical-align: middle;\n",
       "    }\n",
       "\n",
       "    .dataframe tbody tr th {\n",
       "        vertical-align: top;\n",
       "    }\n",
       "\n",
       "    .dataframe thead th {\n",
       "        text-align: right;\n",
       "    }\n",
       "</style>\n",
       "<table border=\"1\" class=\"dataframe\">\n",
       "  <thead>\n",
       "    <tr style=\"text-align: right;\">\n",
       "      <th></th>\n",
       "      <th>HP</th>\n",
       "      <th>MPG</th>\n",
       "      <th>VOL</th>\n",
       "      <th>SP</th>\n",
       "      <th>WT</th>\n",
       "    </tr>\n",
       "  </thead>\n",
       "  <tbody>\n",
       "    <tr>\n",
       "      <th>0</th>\n",
       "      <td>49</td>\n",
       "      <td>53.700681</td>\n",
       "      <td>89</td>\n",
       "      <td>104.185353</td>\n",
       "      <td>28.762059</td>\n",
       "    </tr>\n",
       "    <tr>\n",
       "      <th>1</th>\n",
       "      <td>55</td>\n",
       "      <td>50.013401</td>\n",
       "      <td>92</td>\n",
       "      <td>105.461264</td>\n",
       "      <td>30.466833</td>\n",
       "    </tr>\n",
       "    <tr>\n",
       "      <th>2</th>\n",
       "      <td>55</td>\n",
       "      <td>50.013401</td>\n",
       "      <td>92</td>\n",
       "      <td>105.461264</td>\n",
       "      <td>30.193597</td>\n",
       "    </tr>\n",
       "    <tr>\n",
       "      <th>3</th>\n",
       "      <td>70</td>\n",
       "      <td>45.696322</td>\n",
       "      <td>92</td>\n",
       "      <td>113.461264</td>\n",
       "      <td>30.632114</td>\n",
       "    </tr>\n",
       "    <tr>\n",
       "      <th>4</th>\n",
       "      <td>53</td>\n",
       "      <td>50.504232</td>\n",
       "      <td>92</td>\n",
       "      <td>104.461264</td>\n",
       "      <td>29.889149</td>\n",
       "    </tr>\n",
       "    <tr>\n",
       "      <th>...</th>\n",
       "      <td>...</td>\n",
       "      <td>...</td>\n",
       "      <td>...</td>\n",
       "      <td>...</td>\n",
       "      <td>...</td>\n",
       "    </tr>\n",
       "    <tr>\n",
       "      <th>76</th>\n",
       "      <td>322</td>\n",
       "      <td>36.900000</td>\n",
       "      <td>50</td>\n",
       "      <td>169.598513</td>\n",
       "      <td>16.132947</td>\n",
       "    </tr>\n",
       "    <tr>\n",
       "      <th>77</th>\n",
       "      <td>238</td>\n",
       "      <td>19.197888</td>\n",
       "      <td>115</td>\n",
       "      <td>150.576579</td>\n",
       "      <td>37.923113</td>\n",
       "    </tr>\n",
       "    <tr>\n",
       "      <th>78</th>\n",
       "      <td>263</td>\n",
       "      <td>34.000000</td>\n",
       "      <td>50</td>\n",
       "      <td>151.598513</td>\n",
       "      <td>15.769625</td>\n",
       "    </tr>\n",
       "    <tr>\n",
       "      <th>79</th>\n",
       "      <td>295</td>\n",
       "      <td>19.833733</td>\n",
       "      <td>119</td>\n",
       "      <td>167.944460</td>\n",
       "      <td>39.423099</td>\n",
       "    </tr>\n",
       "    <tr>\n",
       "      <th>80</th>\n",
       "      <td>236</td>\n",
       "      <td>12.101263</td>\n",
       "      <td>107</td>\n",
       "      <td>139.840817</td>\n",
       "      <td>34.948615</td>\n",
       "    </tr>\n",
       "  </tbody>\n",
       "</table>\n",
       "<p>81 rows × 5 columns</p>\n",
       "</div>"
      ],
      "text/plain": [
       "     HP        MPG  VOL          SP         WT\n",
       "0    49  53.700681   89  104.185353  28.762059\n",
       "1    55  50.013401   92  105.461264  30.466833\n",
       "2    55  50.013401   92  105.461264  30.193597\n",
       "3    70  45.696322   92  113.461264  30.632114\n",
       "4    53  50.504232   92  104.461264  29.889149\n",
       "..  ...        ...  ...         ...        ...\n",
       "76  322  36.900000   50  169.598513  16.132947\n",
       "77  238  19.197888  115  150.576579  37.923113\n",
       "78  263  34.000000   50  151.598513  15.769625\n",
       "79  295  19.833733  119  167.944460  39.423099\n",
       "80  236  12.101263  107  139.840817  34.948615\n",
       "\n",
       "[81 rows x 5 columns]"
      ]
     },
     "execution_count": 20,
     "metadata": {},
     "output_type": "execute_result"
    }
   ],
   "source": [
    "car"
   ]
  },
  {
   "cell_type": "code",
   "execution_count": 22,
   "id": "4dd488b0",
   "metadata": {},
   "outputs": [
    {
     "data": {
      "text/plain": [
       "0     53.700681\n",
       "1     50.013401\n",
       "2     50.013401\n",
       "3     45.696322\n",
       "4     50.504232\n",
       "        ...    \n",
       "76    36.900000\n",
       "77    19.197888\n",
       "78    34.000000\n",
       "79    19.833733\n",
       "80    12.101263\n",
       "Name: MPG, Length: 81, dtype: float64"
      ]
     },
     "execution_count": 22,
     "metadata": {},
     "output_type": "execute_result"
    }
   ],
   "source": [
    "car['MPG']"
   ]
  },
  {
   "cell_type": "code",
   "execution_count": null,
   "id": "47465cf1",
   "metadata": {},
   "outputs": [],
   "source": []
  },
  {
   "cell_type": "code",
   "execution_count": 37,
   "id": "ac04dc64",
   "metadata": {},
   "outputs": [
    {
     "name": "stdout",
     "output_type": "stream",
     "text": [
      "The probability of MPG > 38 is : 0.34759392515827137\n",
      "  \n"
     ]
    }
   ],
   "source": [
    " #Q20\n",
    "    #The probability of a) P(MPG>38) \n",
    "x=1-st.norm.cdf(38,loc=car['MPG'].mean(), scale=car['MPG'].std()) \n",
    "print(\"The probability of MPG > 38 is :\", x)    \n",
    "print(\"  \")"
   ]
  },
  {
   "cell_type": "code",
   "execution_count": 39,
   "id": "95321b95",
   "metadata": {},
   "outputs": [
    {
     "name": "stdout",
     "output_type": "stream",
     "text": [
      "The probability of MPG < 40 is : 0.7293498762151609\n",
      " \n"
     ]
    }
   ],
   "source": [
    "#The probability of b) P(MPG<40) \n",
    "y=st.norm.cdf(40,loc=car['MPG'].mean(), scale=car['MPG'].std()) \n",
    "print(\"The probability of MPG < 40 is :\", y)       \n",
    "print(\" \")"
   ]
  },
  {
   "cell_type": "code",
   "execution_count": 41,
   "id": "559cc41f",
   "metadata": {},
   "outputs": [
    {
     "name": "stdout",
     "output_type": "stream",
     "text": [
      "The probability of 20 < MPG < 50 is : 0.8988689169682047\n"
     ]
    }
   ],
   "source": [
    "#The probability of c) P(20<MPG>50) \n",
    "z=st.norm.cdf(50,loc=car['MPG'].mean(), scale=car['MPG'].std()) - st.norm.cdf(20,loc=car['MPG'].mean(), scale=car['MPG'].std())\n",
    "print(\"The probability of 20 < MPG < 50 is :\", z)               "
   ]
  },
  {
   "cell_type": "code",
   "execution_count": 7,
   "id": "3b354016",
   "metadata": {},
   "outputs": [
    {
     "name": "stdout",
     "output_type": "stream",
     "text": [
      "-2.063898561628021  is the t score at 95% confidence interval \n",
      "-2.171544676008068  is the t score at 96% confidence interval \n",
      "-2.796939504772805  is the t score at 99% confidence interval \n"
     ]
    }
   ],
   "source": [
    "#Q23 ANS\n",
    "print(st.t.ppf(0.05/2,24), \" is the t score at 95% confidence interval \")\n",
    "print(st.t.ppf(0.04/2,24), \" is the t score at 96% confidence interval \")\n",
    "print(st.t.ppf(0.01/2,24), \" is the t score at 99% confidence interval \")"
   ]
  },
  {
   "cell_type": "code",
   "execution_count": null,
   "id": "35ca637a",
   "metadata": {},
   "outputs": [],
   "source": []
  }
 ],
 "metadata": {
  "kernelspec": {
   "display_name": "Python 3 (ipykernel)",
   "language": "python",
   "name": "python3"
  },
  "language_info": {
   "codemirror_mode": {
    "name": "ipython",
    "version": 3
   },
   "file_extension": ".py",
   "mimetype": "text/x-python",
   "name": "python",
   "nbconvert_exporter": "python",
   "pygments_lexer": "ipython3",
   "version": "3.11.5"
  }
 },
 "nbformat": 4,
 "nbformat_minor": 5
}
